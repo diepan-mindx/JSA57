{
 "cells": [
  {
   "cell_type": "markdown",
   "id": "8170ca55",
   "metadata": {},
   "source": [
    "# Nhập xuất trên terminal "
   ]
  },
  {
   "cell_type": "markdown",
   "id": "e3c11b5b",
   "metadata": {},
   "source": [
    "## xuất dữ liệu\n",
    "- print(a,b,c)\n",
    "- print(...., end=\", \") # không gọi end -> mặc định cách nhau bằng 1 xuống dòng "
   ]
  },
  {
   "cell_type": "code",
   "execution_count": null,
   "id": "05d75ce2",
   "metadata": {},
   "outputs": [],
   "source": [
    "print(\"Diep\", end=\", \")\n",
    "print(\"28\")\n",
    "print(\"LEC\", \"Mindx\")"
   ]
  },
  {
   "cell_type": "markdown",
   "id": "6d2d0b1f",
   "metadata": {},
   "source": [
    "## nhập dữ liệu\n",
    "- input(): trả về giá trị là **string**\n",
    "- input(\"Yêu cầu nhập vào: \")"
   ]
  },
  {
   "cell_type": "code",
   "execution_count": 8,
   "id": "69d77773",
   "metadata": {},
   "outputs": [
    {
     "name": "stdout",
     "output_type": "stream",
     "text": [
      "<class 'str'>\n"
     ]
    }
   ],
   "source": [
    "inp = input()\n",
    "print(type(inp))"
   ]
  },
  {
   "cell_type": "markdown",
   "id": "ff0380d7",
   "metadata": {},
   "source": [
    "## Kiểu dữ liệu cơ bản\n",
    "- **int**: kiểu số nguyên => 1\n",
    "- **float**: kiểu số thực => 1.3\n",
    "- **string**: kiểu chuỗi => \"abc+- \"\n",
    "- **boolean**: kiểu đúng sai => true/ false"
   ]
  },
  {
   "cell_type": "code",
   "execution_count": null,
   "id": "ad51960d",
   "metadata": {},
   "outputs": [],
   "source": [
    "print(type(True), type(\"string\"))\n",
    "print(0.1 + 0.2)"
   ]
  },
  {
   "cell_type": "markdown",
   "id": "47813b5a",
   "metadata": {},
   "source": [
    "## Toán tử"
   ]
  },
  {
   "cell_type": "markdown",
   "id": "81480bea",
   "metadata": {},
   "source": [
    "### Toán tử số học\n",
    "- Cộng (+)\n",
    "- Trừ (-)\n",
    "- Nhân (*)\n",
    "- Chia (/)\n",
    "- Chia lấy nguyên (//)\n",
    "- Chia lấy dư (%)\n",
    "- Lũy thừa (**)\n",
    "- **Lưu ý**: \n",
    "  - ***Kiểu float có phạm vi lớn hơn kiểu int. Nếu phép tính có cả float và int thì kết quả sẽ có kiểu float.***\n",
    "  - Không thao tác với 2 vế **khác kiểu dữ liệu**"
   ]
  },
  {
   "cell_type": "code",
   "execution_count": null,
   "id": "48ee28a4",
   "metadata": {},
   "outputs": [],
   "source": [
    "print(\"Age\" + str(28)) # chuyen kieu du lieu ve string\n",
    "print(\"a\"*3) # aaa\n",
    "print(type(10%3)) # chia lay nguyen/ du => int\n",
    "print(type(10/2)) # chia thuong => float"
   ]
  },
  {
   "cell_type": "markdown",
   "id": "2953863f",
   "metadata": {},
   "source": [
    "### Toán tử so sánh\n",
    "- Lớn hơn (>)\n",
    "- Lớn hơn hoặc bằng (>=)\n",
    "- Bé hơn (<)\n",
    "- Bé hơn hoặc bằng (<=)\n",
    "- Bằng (==)\n",
    "- Khác (!=)\n",
    "- **Lưu ý:**\n",
    "  - Trả về giá trị **boolean**\n",
    "  - Khi so sánh, chỉ xét **2 vế liền kề, từ trái sang phải**"
   ]
  },
  {
   "cell_type": "markdown",
   "id": "059d98cc",
   "metadata": {},
   "source": [
    "### Toán tử logic\n",
    "- **and**: và (lấy vế False gần nhất, nếu không có False => lấy vế True cuối cùng)\n",
    "- **or**: hoặc (lấy vế True gần nhất, nếu không có True => lấy vế False cuối cùng)\n",
    "- **not**: phủ định\n",
    "- **Lưu ý:**\n",
    "  - 2 vế trái phải đều phải chuyển về kiểu dữ liệu **boolean**\n",
    "  - Trả về giá trị **boolean**\n",
    "  - Khi so sánh, chỉ xét **2 vế liền kề, từ trái sang phải**"
   ]
  },
  {
   "cell_type": "markdown",
   "id": "58bbe3e2",
   "metadata": {},
   "source": [
    "**Truly, Falsy:** Những giá trị trả về False khi chuyển kiểu thành **boolean**:\n",
    "- \"\": chuỗi rỗng\n",
    "- 0, 0.0\n",
    "- False\n",
    "- None\n",
    "- [], (), {}, set(): danh sách rỗng"
   ]
  },
  {
   "cell_type": "code",
   "execution_count": null,
   "id": "5afeaadf",
   "metadata": {},
   "outputs": [
    {
     "name": "stdout",
     "output_type": "stream",
     "text": [
      "1.2\n"
     ]
    }
   ],
   "source": [
    "a = [] # false\n",
    "b = \"abc\" # true\n",
    "c = 1.2 # true\n",
    "d = None # false\n",
    "print(a and b or c or not d) # 1.2\n",
    "# a and b: False\n",
    "# False or c: True\n",
    "# not d: True\n",
    "# True or True: True"
   ]
  }
 ],
 "metadata": {
  "kernelspec": {
   "display_name": "Python 3",
   "language": "python",
   "name": "python3"
  },
  "language_info": {
   "codemirror_mode": {
    "name": "ipython",
    "version": 3
   },
   "file_extension": ".py",
   "mimetype": "text/x-python",
   "name": "python",
   "nbconvert_exporter": "python",
   "pygments_lexer": "ipython3",
   "version": "3.13.2"
  }
 },
 "nbformat": 4,
 "nbformat_minor": 5
}
